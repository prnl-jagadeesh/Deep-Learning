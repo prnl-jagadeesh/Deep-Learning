{
 "cells": [
  {
   "cell_type": "markdown",
   "metadata": {},
   "source": [
    "## Gradient Decent"
   ]
  },
  {
   "cell_type": "markdown",
   "metadata": {},
   "source": [
    "- This is mainly used in deep learing and mechine learning\n",
    "- No need to specificaly cal gradient descent in predefined modal\n",
    "- This will reuduce loss function value\n"
   ]
  },
  {
   "cell_type": "markdown",
   "metadata": {},
   "source": [
    "* Start with an initial guess (random or predefined value of 𝑥).\n",
    "* Compute the gradient (the slope or derivative of the function at 𝑥).\n",
    "* Update 𝑥 using the formula:\n",
    "\n",
    "        x=x−α⋅∇f(x)\n",
    "\n",
    "α is the learning rate, controlling how big a step we take.\n",
    "\n",
    "∇f(x) is the gradient (slope) at 𝑥"
   ]
  },
  {
   "cell_type": "code",
   "execution_count": 3,
   "metadata": {},
   "outputs": [],
   "source": [
    "# Actul function\n",
    "def mainFunction(x):\n",
    "    return x ** 2\n",
    "\n",
    "# Derivative of function\n",
    "def derivativeFunction(x):\n",
    "    return 2 * x\n"
   ]
  },
  {
   "cell_type": "markdown",
   "metadata": {},
   "source": [
    "### Gradient Decent Algorithm\n"
   ]
  },
  {
   "cell_type": "code",
   "execution_count": 7,
   "metadata": {},
   "outputs": [
    {
     "name": "stdout",
     "output_type": "stream",
     "text": [
      "x: 4.00000, f(x): 16.00000\n",
      "x: 3.20000, f(x): 10.24000\n",
      "x: 2.56000, f(x): 6.55360\n",
      "x: 2.04800, f(x): 4.19430\n",
      "x: 1.63840, f(x): 2.68435\n",
      "x: 1.31072, f(x): 1.71799\n",
      "x: 1.04858, f(x): 1.09951\n",
      "x: 0.83886, f(x): 0.70369\n",
      "x: 0.67109, f(x): 0.45036\n",
      "x: 0.53687, f(x): 0.28823\n",
      "Final optimized x: 0.53687\n"
     ]
    }
   ],
   "source": [
    "# Intial value - starting value\n",
    "x = 5\n",
    "learningRate = 0.1\n",
    "epochs = 10\n",
    "\n",
    "\n",
    "for _ in range(epochs):\n",
    "    x = x - learningRate * derivativeFunction(x)\n",
    "    print(f\"x: {x:.5f}, f(x): {mainFunction(x):.5f}\") \n",
    "\n",
    "print(\"Final optimized x:\", round(x,5))\n"
   ]
  }
 ],
 "metadata": {
  "kernelspec": {
   "display_name": "Python 3",
   "language": "python",
   "name": "python3"
  },
  "language_info": {
   "codemirror_mode": {
    "name": "ipython",
    "version": 3
   },
   "file_extension": ".py",
   "mimetype": "text/x-python",
   "name": "python",
   "nbconvert_exporter": "python",
   "pygments_lexer": "ipython3",
   "version": "3.10.12"
  }
 },
 "nbformat": 4,
 "nbformat_minor": 2
}
